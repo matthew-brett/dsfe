{
 "cells": [
  {
   "cell_type": "code",
   "execution_count": 48,
   "metadata": {},
   "outputs": [],
   "source": [
    "# This is just for you so that you can see where the numbers are coming from\n",
    "np.random.seed(12345)\n",
    "\n",
    "cars = np.random.randint(500,8000,size=500)\n",
    "np.save('./cars.npy',cars)\n",
    "\n",
    "value = np.random.uniform(size=500)\n",
    "np.save('./value.npy',value)"
   ]
  },
  {
   "cell_type": "markdown",
   "metadata": {},
   "source": [
    "# Assignment 5"
   ]
  },
  {
   "cell_type": "markdown",
   "metadata": {},
   "source": [
    "Dan a university student wants to buy a car. He knows the price of each he is considering and he assigned a value per pound ratio to each of the cars (based on horsepower, consumption etc.). He saved this data in two arrays (clearly, why wouldn't he?), where the order of the cars was the same. Obviously Dan doesn't want a slow car, he wants the car to have at least $100$ horsepower, which start from $1500$ pounds. So Dan did the following:"
   ]
  },
  {
   "cell_type": "code",
   "execution_count": 49,
   "metadata": {},
   "outputs": [],
   "source": [
    "# Import numpy\n",
    "import numpy as np"
   ]
  },
  {
   "cell_type": "markdown",
   "metadata": {},
   "source": [
    "First he loaded the arrays he created earlier, in the variable called cars and value using a numpy function [np.load()](https://docs.scipy.org/doc/numpy-1.15.0/reference/generated/numpy.load.html)."
   ]
  },
  {
   "cell_type": "code",
   "execution_count": 50,
   "metadata": {},
   "outputs": [],
   "source": [
    "cars = np.load('./cars.npy')\n",
    "value = np.load('./value.npy')"
   ]
  },
  {
   "cell_type": "markdown",
   "metadata": {},
   "source": [
    "Now he choose from the array the cars, which cost more, than the lower bound he set for himself."
   ]
  },
  {
   "cell_type": "code",
   "execution_count": 51,
   "metadata": {},
   "outputs": [],
   "source": [
    "cool_cars = cars[cars>1500]"
   ]
  },
  {
   "cell_type": "markdown",
   "metadata": {},
   "source": [
    "He did the same to get rid of the value/price ratios, which are not relevant at this point."
   ]
  },
  {
   "cell_type": "code",
   "execution_count": 52,
   "metadata": {},
   "outputs": [],
   "source": [
    "cool_cars_value = value[cars>1500]"
   ]
  },
  {
   "cell_type": "markdown",
   "metadata": {},
   "source": [
    "He really wanted to optimise the quality of his car for the price, therefore he multiplied each car price with its value/pounds ratio, so that he got a numerical value how good was each car. He knew that numpy worked pointwise, therefore if he multiplies the two arrays each car respective value would have been displayed in the new array."
   ]
  },
  {
   "cell_type": "code",
   "execution_count": 61,
   "metadata": {},
   "outputs": [],
   "source": [
    "price_value = cool_cars * cool_cars_value"
   ]
  },
  {
   "cell_type": "markdown",
   "metadata": {},
   "source": [
    "Luckily python knows how to get the maximum value of an array, using the [max()](https://docs.python.org/3/library/functions.html#max) function, so Dan used that command."
   ]
  },
  {
   "cell_type": "code",
   "execution_count": 75,
   "metadata": {},
   "outputs": [
    {
     "data": {
      "text/plain": [
       "7497.587237437327"
      ]
     },
     "execution_count": 75,
     "metadata": {},
     "output_type": "execute_result"
    }
   ],
   "source": [
    "best_value = max(price_value)\n",
    "best_value"
   ]
  },
  {
   "cell_type": "markdown",
   "metadata": {},
   "source": [
    "But Dan just realised that he could not interpret the price_value number, but he knew the cars from price, hence he wanted to find its price. He used the [np.where()](https://docs.scipy.org/doc/numpy-1.15.1/reference/generated/numpy.where.html) function to do this."
   ]
  },
  {
   "cell_type": "code",
   "execution_count": 76,
   "metadata": {},
   "outputs": [
    {
     "data": {
      "text/plain": [
       "(array([329]),)"
      ]
     },
     "execution_count": 76,
     "metadata": {},
     "output_type": "execute_result"
    }
   ],
   "source": [
    "np.where(price_value == best_value)"
   ]
  },
  {
   "cell_type": "markdown",
   "metadata": {},
   "source": [
    "So he could see the price of he best price/value car:"
   ]
  },
  {
   "cell_type": "code",
   "execution_count": 77,
   "metadata": {},
   "outputs": [
    {
     "data": {
      "text/plain": [
       "7781"
      ]
     },
     "execution_count": 77,
     "metadata": {},
     "output_type": "execute_result"
    }
   ],
   "source": [
    "cool_cars[329]"
   ]
  },
  {
   "cell_type": "markdown",
   "metadata": {},
   "source": [
    "Dan was really happy that he finally did all the analysis and he can buy his new car. However he realised that, since university started he spent too much time in the pub, so he cannot afford the cars over $5000$ pounds. He got really sad and he lost his motivation to the the analysis again, could you help Dan to buy his new car?"
   ]
  },
  {
   "cell_type": "markdown",
   "metadata": {},
   "source": [
    "## Help poor Dan:"
   ]
  },
  {
   "cell_type": "code",
   "execution_count": null,
   "metadata": {},
   "outputs": [],
   "source": []
  }
 ],
 "metadata": {
  "kernelspec": {
   "display_name": "Python 3",
   "language": "python",
   "name": "python3"
  },
  "language_info": {
   "codemirror_mode": {
    "name": "ipython",
    "version": 3
   },
   "file_extension": ".py",
   "mimetype": "text/x-python",
   "name": "python",
   "nbconvert_exporter": "python",
   "pygments_lexer": "ipython3",
   "version": "3.6.6"
  }
 },
 "nbformat": 4,
 "nbformat_minor": 2
}
